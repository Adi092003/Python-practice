{
  "nbformat": 4,
  "nbformat_minor": 0,
  "metadata": {
    "colab": {
      "provenance": []
    },
    "kernelspec": {
      "name": "python3",
      "display_name": "Python 3"
    },
    "language_info": {
      "name": "python"
    }
  },
  "cells": [
    {
      "cell_type": "code",
      "source": [
        "#Write a program to print triangle\n",
        "rows = 5\n",
        "for i in range(1,rows+1):\n",
        "  for j in range(1,i + 1):\n",
        "    print(\"*\",end=\"\")\n",
        "  print()"
      ],
      "metadata": {
        "colab": {
          "base_uri": "https://localhost:8080/"
        },
        "id": "h7D_sVKDhw3Y",
        "outputId": "a0e70349-6a3c-49ac-fb29-3ea48e9fc69f"
      },
      "execution_count": 15,
      "outputs": [
        {
          "output_type": "stream",
          "name": "stdout",
          "text": [
            "*\n",
            "**\n",
            "***\n",
            "****\n",
            "*****\n"
          ]
        }
      ]
    },
    {
      "cell_type": "code",
      "source": [],
      "metadata": {
        "id": "olAI47sYiBPc"
      },
      "execution_count": null,
      "outputs": []
    }
  ]
}