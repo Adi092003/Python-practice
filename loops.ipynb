{
  "nbformat": 4,
  "nbformat_minor": 0,
  "metadata": {
    "colab": {
      "provenance": []
    },
    "kernelspec": {
      "name": "python3",
      "display_name": "Python 3"
    },
    "language_info": {
      "name": "python"
    }
  },
  "cells": [
    {
      "cell_type": "code",
      "execution_count": 1,
      "metadata": {
        "colab": {
          "base_uri": "https://localhost:8080/"
        },
        "id": "Z74sBshEKYH6",
        "outputId": "e530d4f3-1334-4d20-fa6c-acf84a958073"
      },
      "outputs": [
        {
          "output_type": "stream",
          "name": "stdout",
          "text": [
            "Enter a number: 102\n",
            "Reversed number: 201\n"
          ]
        }
      ],
      "source": [
        "#Q1 Write a python program to reverse a number using a while loop.\n",
        "def reverse_number(num):\n",
        "    reversed_num = 0\n",
        "\n",
        "    while num > 0:\n",
        "        # Extract the last digit of num\n",
        "        digit = num % 10\n",
        "        # Append the digit to reversed_num\n",
        "        reversed_num = (reversed_num * 10) + digit\n",
        "        # Remove the last digit from num\n",
        "        num = num // 10\n",
        "\n",
        "    return reversed_num\n",
        "\n",
        "# Input number\n",
        "number = int(input(\"Enter a number: \"))\n",
        "\n",
        "# Reverse the number using the function\n",
        "reversed_number = reverse_number(number)\n",
        "\n",
        "# Print the reversed number\n",
        "print(\"Reversed number:\", reversed_number)\n"
      ]
    },
    {
      "cell_type": "code",
      "source": [
        "#Q2 WAP to check whether the number is palindrom or not\n",
        "def is_palindrome(num):\n",
        "    original_num = num\n",
        "    reversed_num = 0\n",
        "\n",
        "    while num > 0:\n",
        "        # Extract the last digit of num\n",
        "        digit = num % 10\n",
        "        # Append the digit to reversed_num\n",
        "        reversed_num = (reversed_num * 10) + digit\n",
        "        # Remove the last digit from num\n",
        "        num = num // 10\n",
        "\n",
        "    # Check if the original number is equal to its reverse\n",
        "    return original_num == reversed_num\n",
        "\n",
        "# Input number\n",
        "number = int(input(\"Enter a number: \"))\n",
        "\n",
        "# Check if the number is a palindrome using the function\n",
        "if is_palindrome(number):\n",
        "    print(number, \"is a palindrome\")\n",
        "else:\n",
        "    print(number, \"is not a palindrome\")\n"
      ],
      "metadata": {
        "colab": {
          "base_uri": "https://localhost:8080/"
        },
        "id": "WlyqLdHrK8TX",
        "outputId": "99a55d8a-73c9-48a8-918a-c8dfbaa79594"
      },
      "execution_count": 2,
      "outputs": [
        {
          "output_type": "stream",
          "name": "stdout",
          "text": [
            "Enter a number: 545\n",
            "545 is a palindrome\n"
          ]
        }
      ]
    },
    {
      "cell_type": "code",
      "source": [
        "#Q#Write a python program finding the factorial of a given number using while loop\n",
        "def factorial(n):\n",
        "    # Initialize the factorial to 1\n",
        "    result = 1\n",
        "    # Initialize the counter\n",
        "    i = 1\n",
        "    # Iterate while i is less than or equal to n\n",
        "    while i <= n:\n",
        "        # Update the result by multiplying it with the current value of i\n",
        "        result *= i\n",
        "        # Increment the counter\n",
        "        i += 1\n",
        "    # Return the factorial\n",
        "    return result\n",
        "\n",
        "# Input number\n",
        "number = int(input(\"Enter a number: \"))\n",
        "\n",
        "# Check if the number is negative\n",
        "if number < 0:\n",
        "    print(\"Factorial is not defined for negative numbers.\")\n",
        "else:\n",
        "    # Calculate factorial using the function\n",
        "    fact = factorial(number)\n",
        "    print(\"Factorial of\", number, \"is\", fact)\n"
      ],
      "metadata": {
        "colab": {
          "base_uri": "https://localhost:8080/"
        },
        "id": "B_nIqCBLLpmK",
        "outputId": "51560fcb-1672-49dd-89b5-662a2a821832"
      },
      "execution_count": 3,
      "outputs": [
        {
          "output_type": "stream",
          "name": "stdout",
          "text": [
            "Enter a number: 4\n",
            "Factorial of 4 is 24\n"
          ]
        }
      ]
    },
    {
      "cell_type": "code",
      "source": [
        "# Initialize the sum to 0\n",
        "sum_of_numbers = 0\n",
        "\n",
        "# Iterate over the first 10 natural numbers\n",
        "for i in range(1, 11):\n",
        "    # Add each number to the sum\n",
        "    sum_of_numbers += i\n",
        "\n",
        "# Print the sum\n",
        "print(\"Sum of the first 10 natural numbers:\", sum_of_numbers)\n"
      ],
      "metadata": {
        "colab": {
          "base_uri": "https://localhost:8080/"
        },
        "id": "_Et26WyXL_hw",
        "outputId": "01a6e629-f518-405f-adbd-1f65b90f9ead"
      },
      "execution_count": 4,
      "outputs": [
        {
          "output_type": "stream",
          "name": "stdout",
          "text": [
            "Sum of the first 10 natural numbers: 55\n"
          ]
        }
      ]
    },
    {
      "cell_type": "code",
      "source": [],
      "metadata": {
        "id": "ftJvXso3MO1g"
      },
      "execution_count": null,
      "outputs": []
    }
  ]
}