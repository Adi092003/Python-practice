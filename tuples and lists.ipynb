{
  "cells": [
    {
      "cell_type": "code",
      "execution_count": null,
      "metadata": {
        "colab": {
          "base_uri": "https://localhost:8080/"
        },
        "id": "bW4RuMFyxS3m",
        "outputId": "a40a8a74-a645-4f72-c310-9f147e72cf57"
      },
      "outputs": [
        {
          "name": "stdout",
          "output_type": "stream",
          "text": [
            "tuple: (2, 3, 1, 4, 5, 6)\n",
            "reversed tuple: (6, 5, 4, 1, 3, 2)\n"
          ]
        }
      ],
      "source": [
        "#Q! create tuple and reverse it\n",
        "x = (2,3,1,4,5,6)\n",
        "print(\"tuple:\",x)\n",
        "print(\"reversed tuple:\",x[::-1])"
      ]
    },
    {
      "cell_type": "code",
      "execution_count": 16,
      "metadata": {
        "colab": {
          "base_uri": "https://localhost:8080/"
        },
        "id": "mIuQ4V1vx2CG",
        "outputId": "35bba319-aeea-41fa-f5e3-8cc002cd9278"
      },
      "outputs": [
        {
          "output_type": "stream",
          "name": "stdout",
          "text": [
            "list with interchanged first and last elements: [6, 2, 3, 5, 1]\n"
          ]
        }
      ],
      "source": [
        "#q2 Python program to interchange first and last elements in a list\n",
        "list = [1,2,3,5,6]\n",
        "n=len(list)\n",
        "def exchange(y):\n",
        "  y[0],y[n-1]=y[n-1],y[0]\n",
        "  return y\n",
        "\n",
        "z = exchange(list)\n",
        "print(\"list with interchanged first and last elements:\",z)"
      ]
    },
    {
      "cell_type": "code",
      "source": [
        "#Q3 Cloning or Copying a list into anotherlist\n",
        "lista = [5,6,5,8,4]\n",
        "cloned_list = lista.copy()\n",
        "print(cloned_list)"
      ],
      "metadata": {
        "colab": {
          "base_uri": "https://localhost:8080/"
        },
        "id": "v72neCpfHcd-",
        "outputId": "4532b748-60a1-430b-b935-39e4937726a9"
      },
      "execution_count": 17,
      "outputs": [
        {
          "output_type": "stream",
          "name": "stdout",
          "text": [
            "[5, 6, 5, 8, 4]\n"
          ]
        }
      ]
    },
    {
      "cell_type": "code",
      "source": [],
      "metadata": {
        "id": "0MQ4t7EOIM_9"
      },
      "execution_count": null,
      "outputs": []
    }
  ],
  "metadata": {
    "colab": {
      "provenance": []
    },
    "kernelspec": {
      "display_name": "Python 3",
      "name": "python3"
    },
    "language_info": {
      "name": "python"
    }
  },
  "nbformat": 4,
  "nbformat_minor": 0
}