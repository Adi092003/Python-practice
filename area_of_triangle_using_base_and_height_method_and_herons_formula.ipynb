{
  "nbformat": 4,
  "nbformat_minor": 0,
  "metadata": {
    "colab": {
      "provenance": []
    },
    "kernelspec": {
      "name": "python3",
      "display_name": "Python 3"
    },
    "language_info": {
      "name": "python"
    }
  },
  "cells": [
    {
      "cell_type": "code",
      "execution_count": 4,
      "metadata": {
        "colab": {
          "base_uri": "https://localhost:8080/"
        },
        "id": "yZxYtBrPkYdQ",
        "outputId": "2102fd77-4b0f-44d7-b166-22f488440960"
      },
      "outputs": [
        {
          "output_type": "stream",
          "name": "stdout",
          "text": [
            "enter your base :5\n",
            "enter your height4\n",
            "10.0\n"
          ]
        }
      ],
      "source": [
        "#Area of triangle if base and height is known\n",
        "base = int(input(\"enter your base :\"))\n",
        "height = int(input(\"enter your height\"))\n",
        "\n",
        "a = 0.5*base*height\n",
        "print(a)"
      ]
    },
    {
      "cell_type": "code",
      "source": [
        "#area of triangle using herons formula\n",
        "import math\n",
        "a = int(input(\"Enter lenght of side a :\"))\n",
        "b = int(input(\"Enter lenght of side b :\"))\n",
        "c =int(input(\"Enter length of side c :\"))\n",
        "\n",
        "s = (a+b+c)/2\n",
        "a = s*(s-a)*(s-b)*(s-c)\n",
        "area =  int(math.sqrt(a))\n",
        "print(\"area of triangle is : \",area)"
      ],
      "metadata": {
        "colab": {
          "base_uri": "https://localhost:8080/"
        },
        "id": "p8SiMQygkjd1",
        "outputId": "0fd02648-f249-4e9b-e445-4df15b93ad45"
      },
      "execution_count": 11,
      "outputs": [
        {
          "output_type": "stream",
          "name": "stdout",
          "text": [
            "Enter lenght of side a :4\n",
            "Enter lenght of side b :5\n",
            "Enter length of side c :6\n",
            "area of triangle is :  9\n"
          ]
        }
      ]
    },
    {
      "cell_type": "code",
      "source": [
        "55\n"
      ],
      "metadata": {
        "id": "3vmAnEfvrGKF"
      },
      "execution_count": null,
      "outputs": []
    }
  ]
}